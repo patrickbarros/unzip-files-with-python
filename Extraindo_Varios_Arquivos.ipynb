{
 "cells": [
  {
   "cell_type": "markdown",
   "metadata": {},
   "source": [
    "## Descompactando Varios Arquivos"
   ]
  },
  {
   "cell_type": "markdown",
   "metadata": {},
   "source": [
    "#### Linhas de código comentada para descompactar diversos arquivos"
   ]
  },
  {
   "cell_type": "markdown",
   "metadata": {},
   "source": [
    "#### Como rodar:    \n",
    "    \n",
    "    Antes de rodar o programa, altere os caminhos dentro do codigo. Observe que dentro do for é necessário deixar dois \n",
    "    contra barra no final do caminho da pasta.  \n",
    "    Após alterar os caminhos, vá na opção [Cell] e depois em [Run All]. "
   ]
  },
  {
   "cell_type": "code",
   "execution_count": null,
   "metadata": {},
   "outputs": [],
   "source": [
    "import patoolib\n",
    "import os"
   ]
  },
  {
   "cell_type": "code",
   "execution_count": null,
   "metadata": {},
   "outputs": [],
   "source": [
    "os.chdir('COLOCAR CAMINHO DA ATE A PASTA ONDE ESTAO ARQUIVOS COMPRIMIDOS') #Abrindo a pasta "
   ]
  },
  {
   "cell_type": "code",
   "execution_count": null,
   "metadata": {},
   "outputs": [],
   "source": [
    "list_arquivos = os.listdir() #Lista com o nome de arquivos dentro da pasta"
   ]
  },
  {
   "cell_type": "code",
   "execution_count": null,
   "metadata": {},
   "outputs": [],
   "source": [
    "arq_erro = [] #Lista vazia onde iremos incluir nossos arquivos que por algum motivo nao serao extraidos.\n",
    "\n",
    "for i in list_arquivos: #Para cada arquivo zipado na pasta\n",
    "    name_fixo = \"C:\\\\Users\\\\US365NR\\\\Desktop\\\\teste\\\\udemy-the-complete-machine-learning-course-with-python-master\\\\\" #String com o nome do caminho com os arquivos zipados\n",
    "    name_now = name_fixo + i #Concatenando strings com o caminho + o nome do arquivo a ser descompactado\n",
    "\n",
    "    try:\n",
    "        patoolib.extract_archive(name_now) #Extraindo o arquivo \n",
    "    \n",
    "    except Exception: #não pega MemoryError, SystemExit, KeyboardInterrupt. Queremos apenas erros que o arquivo pode ter em extrair\n",
    "        arq_erro.append(i) #Lista com o nome dos arquivos que nao foram extraidos\n",
    "    \n",
    "    \n",
    "    \n",
    "print(arq_erro) #Dar um print na lista com o nome de arquivos que nao foram extraidos. Recomendo olhar esses arquivos na pasta e verificar se nao estao corrompidos ou com algum problema. "
   ]
  },
  {
   "cell_type": "markdown",
   "metadata": {},
   "source": [
    "# RESULTADO DO CÓDIGO"
   ]
  },
  {
   "cell_type": "markdown",
   "metadata": {},
   "source": [
    "### Total de Arquivos Descompactado:"
   ]
  },
  {
   "cell_type": "code",
   "execution_count": null,
   "metadata": {},
   "outputs": [],
   "source": [
    "len(list_arquivos) - len(arq_erro)"
   ]
  },
  {
   "cell_type": "markdown",
   "metadata": {},
   "source": [
    "### Arquivos com Problema:"
   ]
  },
  {
   "cell_type": "code",
   "execution_count": null,
   "metadata": {},
   "outputs": [],
   "source": [
    "len(arq_erro)"
   ]
  },
  {
   "cell_type": "markdown",
   "metadata": {},
   "source": [
    "### Lista com o nome dos arquivos com problema:"
   ]
  },
  {
   "cell_type": "code",
   "execution_count": null,
   "metadata": {},
   "outputs": [],
   "source": [
    "arq_erro"
   ]
  }
 ],
 "metadata": {
  "kernelspec": {
   "display_name": "Python 3",
   "language": "python",
   "name": "python3"
  },
  "language_info": {
   "codemirror_mode": {
    "name": "ipython",
    "version": 3
   },
   "file_extension": ".py",
   "mimetype": "text/x-python",
   "name": "python",
   "nbconvert_exporter": "python",
   "pygments_lexer": "ipython3",
   "version": "3.6.5"
  }
 },
 "nbformat": 4,
 "nbformat_minor": 2
}
